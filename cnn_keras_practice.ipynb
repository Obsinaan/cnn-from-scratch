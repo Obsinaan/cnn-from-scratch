{
  "nbformat": 4,
  "nbformat_minor": 0,
  "metadata": {
    "colab": {
      "name": "cnn_keras_practice.ipynb",
      "provenance": [],
      "authorship_tag": "ABX9TyOZNtIgakiDRYc3OZKzENaX",
      "include_colab_link": true
    },
    "kernelspec": {
      "name": "python3",
      "display_name": "Python 3"
    },
    "language_info": {
      "name": "python"
    }
  },
  "cells": [
    {
      "cell_type": "markdown",
      "metadata": {
        "id": "view-in-github",
        "colab_type": "text"
      },
      "source": [
        "<a href=\"https://colab.research.google.com/github/Obsinaan/cnn-from-scratch/blob/master/cnn_keras_practice.ipynb\" target=\"_parent\"><img src=\"https://colab.research.google.com/assets/colab-badge.svg\" alt=\"Open In Colab\"/></a>"
      ]
    },
    {
      "cell_type": "markdown",
      "source": [
        "#CNN learning"
      ],
      "metadata": {
        "id": "F7-eZ_Wl5pLS"
      }
    },
    {
      "cell_type": "code",
      "source": [
        "from keras.layers import Conv2D,Dense,Flatten,ReLU,Dropout\n",
        "from keras.models import Sequential\n"
      ],
      "metadata": {
        "id": "a6nuget55vO2"
      },
      "execution_count": 2,
      "outputs": []
    },
    {
      "cell_type": "markdown",
      "source": [
        "#Loading Dataset"
      ],
      "metadata": {
        "id": "RTdVzDThCa1I"
      }
    },
    {
      "cell_type": "code",
      "source": [
        "from keras.datasets import mnist\n",
        "(X_train,y_train),(X_test,y_test)=mnist.load_data()"
      ],
      "metadata": {
        "colab": {
          "base_uri": "https://localhost:8080/"
        },
        "id": "vSubIDqf-Jm-",
        "outputId": "f7be5b5a-cd27-4982-d289-b3ad7a776f1a"
      },
      "execution_count": 3,
      "outputs": [
        {
          "output_type": "stream",
          "name": "stdout",
          "text": [
            "Downloading data from https://storage.googleapis.com/tensorflow/tf-keras-datasets/mnist.npz\n",
            "11493376/11490434 [==============================] - 0s 0us/step\n",
            "11501568/11490434 [==============================] - 0s 0us/step\n"
          ]
        }
      ]
    },
    {
      "cell_type": "code",
      "source": [
        "print(X_train.shape)\n",
        "print(y_train.shape)\n",
        "print(X_test.shape)\n",
        "print(y_test.shape)"
      ],
      "metadata": {
        "colab": {
          "base_uri": "https://localhost:8080/"
        },
        "id": "pT6lSGYm-64F",
        "outputId": "03a74e08-952f-43b9-e9a4-56f3828afebb"
      },
      "execution_count": 4,
      "outputs": [
        {
          "output_type": "stream",
          "name": "stdout",
          "text": [
            "(60000, 28, 28)\n",
            "(60000,)\n",
            "(10000, 28, 28)\n",
            "(10000,)\n"
          ]
        }
      ]
    },
    {
      "cell_type": "markdown",
      "source": [
        "#Normalization"
      ],
      "metadata": {
        "id": "XONU1G34CXUD"
      }
    },
    {
      "cell_type": "code",
      "source": [
        "X=X_train.astype('float32')/255\n",
        "x_test=X_test.astype('float32')/255\n",
        "y_train=y_train.astype('float32')/255\n",
        "y_test=y_test.astype('float32')/255"
      ],
      "metadata": {
        "id": "FbuUZyEIAsci"
      },
      "execution_count": 5,
      "outputs": []
    },
    {
      "cell_type": "code",
      "source": [
        "from keras.activations import sigmoid\n",
        "from keras.layers.pooling import MaxPool2D\n",
        "model=Sequential()\n",
        "model.add(Conv2D(3,(3,3),input_shape=(28,28,1)))\n",
        "model.add(Conv2D(16,(3,3),input_shape=(28,28,1)))\n",
        "model.add(MaxPool2D(pool_size=(2,2)))\n",
        "model.add(Dropout(0.25))\n",
        "model.add(Dense(2,activation=sigmoid))\n",
        "model.add(Flatten())\n",
        "model.add(Dense(10))\n",
        "model.summary()"
      ],
      "metadata": {
        "colab": {
          "base_uri": "https://localhost:8080/"
        },
        "id": "TiD7qYo_4tCo",
        "outputId": "60b1e4df-a632-4e47-ff12-d71834ee91b9"
      },
      "execution_count": 6,
      "outputs": [
        {
          "output_type": "stream",
          "name": "stdout",
          "text": [
            "Model: \"sequential\"\n",
            "_________________________________________________________________\n",
            " Layer (type)                Output Shape              Param #   \n",
            "=================================================================\n",
            " conv2d (Conv2D)             (None, 26, 26, 3)         30        \n",
            "                                                                 \n",
            " conv2d_1 (Conv2D)           (None, 24, 24, 16)        448       \n",
            "                                                                 \n",
            " max_pooling2d (MaxPooling2D  (None, 12, 12, 16)       0         \n",
            " )                                                               \n",
            "                                                                 \n",
            " dropout (Dropout)           (None, 12, 12, 16)        0         \n",
            "                                                                 \n",
            " dense (Dense)               (None, 12, 12, 2)         34        \n",
            "                                                                 \n",
            " flatten (Flatten)           (None, 288)               0         \n",
            "                                                                 \n",
            " dense_1 (Dense)             (None, 10)                2890      \n",
            "                                                                 \n",
            "=================================================================\n",
            "Total params: 3,402\n",
            "Trainable params: 3,402\n",
            "Non-trainable params: 0\n",
            "_________________________________________________________________\n"
          ]
        }
      ]
    },
    {
      "cell_type": "markdown",
      "source": [
        "#traindatset on MNISt"
      ],
      "metadata": {
        "id": "Xn4YcyCm_W0k"
      }
    },
    {
      "cell_type": "code",
      "source": [
        "from keras.backend import sparse_categorical_crossentropy\n",
        "\n",
        "model.compile(optimizer='rmsprop',loss=sparse_categorical_crossentropy,metrics=['accuracy'])\n"
      ],
      "metadata": {
        "id": "nhUceJNP5gma"
      },
      "execution_count": 7,
      "outputs": []
    },
    {
      "cell_type": "code",
      "source": [
        "model.fit(X,y_train,batch_size=10,epochs=3)"
      ],
      "metadata": {
        "colab": {
          "base_uri": "https://localhost:8080/"
        },
        "id": "0K7jc3f6_-6x",
        "outputId": "f1715224-d718-4fd8-ebe8-39c2d4680999"
      },
      "execution_count": 8,
      "outputs": [
        {
          "output_type": "stream",
          "name": "stdout",
          "text": [
            "Epoch 1/3\n",
            "6000/6000 [==============================] - 49s 8ms/step - loss: 1.6351 - accuracy: 0.0885\n",
            "Epoch 2/3\n",
            "6000/6000 [==============================] - 48s 8ms/step - loss: 9.5367e-07 - accuracy: 0.0987\n",
            "Epoch 3/3\n",
            "6000/6000 [==============================] - 48s 8ms/step - loss: 9.5367e-07 - accuracy: 0.0987\n"
          ]
        },
        {
          "output_type": "execute_result",
          "data": {
            "text/plain": [
              "<keras.callbacks.History at 0x7ff679092290>"
            ]
          },
          "metadata": {},
          "execution_count": 8
        }
      ]
    },
    {
      "cell_type": "code",
      "source": [
        "model.evaluate(x_test)"
      ],
      "metadata": {
        "colab": {
          "base_uri": "https://localhost:8080/"
        },
        "id": "LN3LmDvuASvf",
        "outputId": "eae6134d-9a4d-4007-d60a-24263fea945b"
      },
      "execution_count": 10,
      "outputs": [
        {
          "output_type": "stream",
          "name": "stdout",
          "text": [
            "313/313 [==============================] - 0s 1ms/step - loss: 0.0000e+00 - accuracy: 0.0000e+00\n"
          ]
        },
        {
          "output_type": "execute_result",
          "data": {
            "text/plain": [
              "[0.0, 0.0]"
            ]
          },
          "metadata": {},
          "execution_count": 10
        }
      ]
    },
    {
      "cell_type": "code",
      "source": [
        "model.predict(x_test)"
      ],
      "metadata": {
        "colab": {
          "base_uri": "https://localhost:8080/"
        },
        "id": "gnzwT3aKTY2K",
        "outputId": "ed256577-bd99-431c-b494-5a50d9fc86ee"
      },
      "execution_count": 11,
      "outputs": [
        {
          "output_type": "execute_result",
          "data": {
            "text/plain": [
              "array([[ 1.3083696 , -0.20850423, -0.5605579 , ..., -0.29711065,\n",
              "        -0.22932047, -0.69241714],\n",
              "       [ 1.2903574 , -0.22600606, -0.5248524 , ..., -0.14706072,\n",
              "        -0.27868688, -0.70832855],\n",
              "       [ 1.2805958 , -0.23030029, -0.5904827 , ..., -0.24078262,\n",
              "        -0.2270005 , -0.67565227],\n",
              "       ...,\n",
              "       [ 1.2915553 , -0.1989401 , -0.5660685 , ..., -0.21603498,\n",
              "        -0.15438324, -0.6476057 ],\n",
              "       [ 1.2637947 , -0.23916584, -0.51052976, ..., -0.16682354,\n",
              "        -0.30914742, -0.71712035],\n",
              "       [ 1.2073268 , -0.1790079 , -0.61185014, ..., -0.17233035,\n",
              "        -0.24392918, -0.6698633 ]], dtype=float32)"
            ]
          },
          "metadata": {},
          "execution_count": 11
        }
      ]
    },
    {
      "cell_type": "code",
      "source": [
        ""
      ],
      "metadata": {
        "id": "TbfIoKI9UzxP"
      },
      "execution_count": null,
      "outputs": []
    }
  ]
}